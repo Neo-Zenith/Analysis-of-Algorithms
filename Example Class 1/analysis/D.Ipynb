{
 "cells": [
  {
   "cell_type": "markdown",
   "metadata": {},
   "source": [
    "## Imports"
   ]
  },
  {
   "cell_type": "markdown",
   "metadata": {},
   "source": [
    "Begin by importing the required libraries."
   ]
  },
  {
   "cell_type": "code",
   "execution_count": 6,
   "metadata": {},
   "outputs": [
    {
     "name": "stdout",
     "output_type": "stream",
     "text": [
      "Requirement already satisfied: sklearn in c:\\users\\juinl\\appdata\\local\\programs\\python\\python310\\lib\\site-packages (0.0)\n",
      "Requirement already satisfied: scikit-learn in c:\\users\\juinl\\appdata\\local\\programs\\python\\python310\\lib\\site-packages (from sklearn) (1.1.2)\n",
      "Requirement already satisfied: joblib>=1.0.0 in c:\\users\\juinl\\appdata\\local\\programs\\python\\python310\\lib\\site-packages (from scikit-learn->sklearn) (1.1.0)\n",
      "Requirement already satisfied: threadpoolctl>=2.0.0 in c:\\users\\juinl\\appdata\\local\\programs\\python\\python310\\lib\\site-packages (from scikit-learn->sklearn) (3.1.0)\n",
      "Requirement already satisfied: scipy>=1.3.2 in c:\\users\\juinl\\appdata\\local\\programs\\python\\python310\\lib\\site-packages (from scikit-learn->sklearn) (1.9.1)\n",
      "Requirement already satisfied: numpy>=1.17.3 in c:\\users\\juinl\\appdata\\local\\programs\\python\\python310\\lib\\site-packages (from scikit-learn->sklearn) (1.23.1)\n",
      "Requirement already satisfied: seaborn in c:\\users\\juinl\\appdata\\local\\programs\\python\\python310\\lib\\site-packages (0.12.0)\n",
      "Requirement already satisfied: numpy>=1.17 in c:\\users\\juinl\\appdata\\local\\programs\\python\\python310\\lib\\site-packages (from seaborn) (1.23.1)\n",
      "Requirement already satisfied: matplotlib>=3.1 in c:\\users\\juinl\\appdata\\local\\programs\\python\\python310\\lib\\site-packages (from seaborn) (3.5.3)\n",
      "Requirement already satisfied: pandas>=0.25 in c:\\users\\juinl\\appdata\\local\\programs\\python\\python310\\lib\\site-packages (from seaborn) (1.4.3)\n",
      "Requirement already satisfied: pillow>=6.2.0 in c:\\users\\juinl\\appdata\\local\\programs\\python\\python310\\lib\\site-packages (from matplotlib>=3.1->seaborn) (9.2.0)\n",
      "Requirement already satisfied: fonttools>=4.22.0 in c:\\users\\juinl\\appdata\\local\\programs\\python\\python310\\lib\\site-packages (from matplotlib>=3.1->seaborn) (4.37.1)\n",
      "Requirement already satisfied: kiwisolver>=1.0.1 in c:\\users\\juinl\\appdata\\local\\programs\\python\\python310\\lib\\site-packages (from matplotlib>=3.1->seaborn) (1.4.4)\n",
      "Requirement already satisfied: cycler>=0.10 in c:\\users\\juinl\\appdata\\local\\programs\\python\\python310\\lib\\site-packages (from matplotlib>=3.1->seaborn) (0.11.0)\n",
      "Requirement already satisfied: packaging>=20.0 in c:\\users\\juinl\\appdata\\roaming\\python\\python310\\site-packages (from matplotlib>=3.1->seaborn) (21.3)\n",
      "Requirement already satisfied: pyparsing>=2.2.1 in c:\\users\\juinl\\appdata\\roaming\\python\\python310\\site-packages (from matplotlib>=3.1->seaborn) (3.0.9)\n",
      "Requirement already satisfied: python-dateutil>=2.7 in c:\\users\\juinl\\appdata\\local\\programs\\python\\python310\\lib\\site-packages (from matplotlib>=3.1->seaborn) (2.8.2)\n",
      "Requirement already satisfied: pytz>=2020.1 in c:\\users\\juinl\\appdata\\local\\programs\\python\\python310\\lib\\site-packages (from pandas>=0.25->seaborn) (2022.1)\n",
      "Requirement already satisfied: six>=1.5 in c:\\users\\juinl\\appdata\\local\\programs\\python\\python310\\lib\\site-packages (from python-dateutil>=2.7->matplotlib>=3.1->seaborn) (1.16.0)\n",
      "Requirement already satisfied: matplotlib in c:\\users\\juinl\\appdata\\local\\programs\\python\\python310\\lib\\site-packages (3.5.3)\n",
      "Requirement already satisfied: packaging>=20.0 in c:\\users\\juinl\\appdata\\roaming\\python\\python310\\site-packages (from matplotlib) (21.3)\n",
      "Requirement already satisfied: pyparsing>=2.2.1 in c:\\users\\juinl\\appdata\\roaming\\python\\python310\\site-packages (from matplotlib) (3.0.9)\n",
      "Requirement already satisfied: cycler>=0.10 in c:\\users\\juinl\\appdata\\local\\programs\\python\\python310\\lib\\site-packages (from matplotlib) (0.11.0)\n",
      "Requirement already satisfied: python-dateutil>=2.7 in c:\\users\\juinl\\appdata\\local\\programs\\python\\python310\\lib\\site-packages (from matplotlib) (2.8.2)\n",
      "Requirement already satisfied: pillow>=6.2.0 in c:\\users\\juinl\\appdata\\local\\programs\\python\\python310\\lib\\site-packages (from matplotlib) (9.2.0)\n",
      "Requirement already satisfied: kiwisolver>=1.0.1 in c:\\users\\juinl\\appdata\\local\\programs\\python\\python310\\lib\\site-packages (from matplotlib) (1.4.4)\n",
      "Requirement already satisfied: fonttools>=4.22.0 in c:\\users\\juinl\\appdata\\local\\programs\\python\\python310\\lib\\site-packages (from matplotlib) (4.37.1)\n",
      "Requirement already satisfied: numpy>=1.17 in c:\\users\\juinl\\appdata\\local\\programs\\python\\python310\\lib\\site-packages (from matplotlib) (1.23.1)\n",
      "Requirement already satisfied: six>=1.5 in c:\\users\\juinl\\appdata\\local\\programs\\python\\python310\\lib\\site-packages (from python-dateutil>=2.7->matplotlib) (1.16.0)\n"
     ]
    }
   ],
   "source": [
    "!pip install sklearn\n",
    "!pip install seaborn\n",
    "!pip install matplotlib"
   ]
  },
  {
   "cell_type": "code",
   "execution_count": 7,
   "metadata": {},
   "outputs": [],
   "source": [
    "import pandas as pd\n",
    "import sklearn as sk\n",
    "import seaborn as sb\n",
    "import matplotlib.pyplot as plt"
   ]
  },
  {
   "cell_type": "markdown",
   "metadata": {},
   "source": [
    "Import the generated dataset."
   ]
  },
  {
   "cell_type": "code",
   "execution_count": 8,
   "metadata": {},
   "outputs": [
    {
     "data": {
      "text/html": [
       "<div>\n",
       "<style scoped>\n",
       "    .dataframe tbody tr th:only-of-type {\n",
       "        vertical-align: middle;\n",
       "    }\n",
       "\n",
       "    .dataframe tbody tr th {\n",
       "        vertical-align: top;\n",
       "    }\n",
       "\n",
       "    .dataframe thead th {\n",
       "        text-align: right;\n",
       "    }\n",
       "</style>\n",
       "<table border=\"1\" class=\"dataframe\">\n",
       "  <thead>\n",
       "    <tr style=\"text-align: right;\">\n",
       "      <th></th>\n",
       "      <th>Algorithm</th>\n",
       "      <th>Key comparisons</th>\n",
       "      <th>Execution time</th>\n",
       "    </tr>\n",
       "  </thead>\n",
       "  <tbody>\n",
       "    <tr>\n",
       "      <th>0</th>\n",
       "      <td>Merge-Insertion Sort</td>\n",
       "      <td>181407452</td>\n",
       "      <td>2.516</td>\n",
       "    </tr>\n",
       "    <tr>\n",
       "      <th>1</th>\n",
       "      <td>Merge Sort</td>\n",
       "      <td>159158061</td>\n",
       "      <td>3.494</td>\n",
       "    </tr>\n",
       "    <tr>\n",
       "      <th>2</th>\n",
       "      <td>Merge-Insertion Sort</td>\n",
       "      <td>181398151</td>\n",
       "      <td>2.382</td>\n",
       "    </tr>\n",
       "    <tr>\n",
       "      <th>3</th>\n",
       "      <td>Merge Sort</td>\n",
       "      <td>159153298</td>\n",
       "      <td>3.477</td>\n",
       "    </tr>\n",
       "    <tr>\n",
       "      <th>4</th>\n",
       "      <td>Merge-Insertion Sort</td>\n",
       "      <td>181400060</td>\n",
       "      <td>2.384</td>\n",
       "    </tr>\n",
       "  </tbody>\n",
       "</table>\n",
       "</div>"
      ],
      "text/plain": [
       "              Algorithm  Key comparisons  Execution time\n",
       "0  Merge-Insertion Sort        181407452           2.516\n",
       "1            Merge Sort        159158061           3.494\n",
       "2  Merge-Insertion Sort        181398151           2.382\n",
       "3            Merge Sort        159153298           3.477\n",
       "4  Merge-Insertion Sort        181400060           2.384"
      ]
     },
     "execution_count": 8,
     "metadata": {},
     "output_type": "execute_result"
    }
   ],
   "source": [
    "data = pd.read_csv(\"../datasets/D.csv\", header=0)\n",
    "\n",
    "data.head()"
   ]
  },
  {
   "cell_type": "markdown",
   "metadata": {},
   "source": [
    "## Analysis"
   ]
  },
  {
   "cell_type": "markdown",
   "metadata": {},
   "source": [
    "We ran our hybrid Merge-Insertion Sort and Merge Sort algorithm repeatedly for 100 times and take the average number of key comparisons and execution time."
   ]
  },
  {
   "cell_type": "code",
   "execution_count": 9,
   "metadata": {},
   "outputs": [
    {
     "name": "stdout",
     "output_type": "stream",
     "text": [
      "The average number of key comparsions for Merge-Insertion Sort is 183215464.55\n",
      "The average execution time for Merge-Insertion Sort is 2.42s\n",
      "\n",
      "\n",
      "The average number of key comparsions for Merge Sort is 160746632.46\n",
      "The average execution time for Merge Sort is 3.53s\n"
     ]
    }
   ],
   "source": [
    "df = data[data['Algorithm'] == 'Merge-Insertion Sort']\n",
    "sum_key_comparisons = 0\n",
    "count = 0\n",
    "for j in df['Key comparisons']:\n",
    "    count += 1\n",
    "    sum_key_comparisons += int(j)\n",
    "avg_key1 = sum_key_comparisons / 100\n",
    "print(\"The average number of key comparsions for Merge-Insertion Sort is\", avg_key1)\n",
    "\n",
    "sum_execution_time = 0.0\n",
    "for j in df['Execution time']:\n",
    "    sum_execution_time += float(j)\n",
    "avg_time1 = float (sum_execution_time / 100)\n",
    "print(\"The average execution time for Merge-Insertion Sort is %.2fs\" %avg_time1)\n",
    "\n",
    "print(\"\\n\")\n",
    "df = data[data['Algorithm'] == 'Merge Sort']\n",
    "sum_key_comparisons = 0\n",
    "for j in df['Key comparisons']:\n",
    "    sum_key_comparisons += int(j)\n",
    "avg_key2 = sum_key_comparisons / 100\n",
    "print(\"The average number of key comparsions for Merge Sort is\", avg_key2)\n",
    "\n",
    "sum_execution_time = 0.0\n",
    "for j in df['Execution time']:\n",
    "    sum_execution_time += float(j)\n",
    "avg_time2 = float (sum_execution_time / 100)\n",
    "print(\"The average execution time for Merge Sort is %.2fs\" %avg_time2)"
   ]
  }
 ],
 "metadata": {
  "kernelspec": {
   "display_name": "Python 3.10.6 64-bit",
   "language": "python",
   "name": "python3"
  },
  "language_info": {
   "codemirror_mode": {
    "name": "ipython",
    "version": 3
   },
   "file_extension": ".py",
   "mimetype": "text/x-python",
   "name": "python",
   "nbconvert_exporter": "python",
   "pygments_lexer": "ipython3",
   "version": "3.10.6"
  },
  "orig_nbformat": 4,
  "vscode": {
   "interpreter": {
    "hash": "7af31a7d74b9ef7850b12cd4fa087c90892c7a522c721e08e53307ca706ec4b9"
   }
  }
 },
 "nbformat": 4,
 "nbformat_minor": 2
}
